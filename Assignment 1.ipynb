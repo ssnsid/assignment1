{
 "cells": [
  {
   "cell_type": "raw",
   "id": "3ade5512-295c-4e48-9daa-e0ad955aae22",
   "metadata": {},
   "source": [
    "# 1st question"
   ]
  },
  {
   "cell_type": "code",
   "execution_count": null,
   "id": "fb74c655-c203-461e-9e11-5dfddf52eb59",
   "metadata": {},
   "outputs": [],
   "source": [
    "string= \"hello world\""
   ]
  },
  {
   "cell_type": "code",
   "execution_count": 4,
   "id": "eca583ee-146e-487b-9ac0-98133def11e5",
   "metadata": {},
   "outputs": [],
   "source": [
    "l = [ 1,2,3,34.23,5,\"sid\", 7]"
   ]
  },
  {
   "cell_type": "code",
   "execution_count": 5,
   "id": "510fe5cb-e808-486e-9767-08268a54cbb5",
   "metadata": {},
   "outputs": [],
   "source": [
    "float= 34.25"
   ]
  },
  {
   "cell_type": "code",
   "execution_count": 6,
   "id": "d80a5e76-1366-4150-a0a7-f48be0c7ad75",
   "metadata": {},
   "outputs": [],
   "source": [
    "tuple= (1,43.56, \"nana\" )"
   ]
  },
  {
   "cell_type": "raw",
   "id": "99d27170-8f75-4f0f-becf-0f7cfa247868",
   "metadata": {},
   "source": [
    "# 4th question"
   ]
  },
  {
   "cell_type": "code",
   "execution_count": 7,
   "id": "a32e130d-63e3-491c-9e5c-1317f5e29236",
   "metadata": {},
   "outputs": [],
   "source": [
    "l= [1,2,3,4, \"sido\", 5,34.33, 22.11,7,777]"
   ]
  },
  {
   "cell_type": "code",
   "execution_count": null,
   "id": "b38a8d75-b419-430d-bd19-29f32d533cee",
   "metadata": {},
   "outputs": [
    {
     "name": "stdout",
     "output_type": "stream",
     "text": [
      "<class 'int'>\n",
      "<class 'int'>\n",
      "<class 'int'>\n",
      "<class 'int'>\n",
      "<class 'str'>\n",
      "<class 'int'>\n",
      "<class 'float'>\n",
      "<class 'float'>\n",
      "<class 'int'>\n",
      "<class 'int'>\n"
     ]
    }
   ],
   "source": [
    "for i in l :\n",
    "    print(type(i))"
   ]
  },
  {
   "cell_type": "code",
   "execution_count": null,
   "id": "44168e70-d906-4f67-ae69-d7c87960b1f6",
   "metadata": {},
   "outputs": [],
   "source": [
    "# 6th quetion"
   ]
  },
  {
   "cell_type": "code",
   "execution_count": 10,
   "id": "c4f118ab-0022-486f-9a0c-bba01b9fedb9",
   "metadata": {},
   "outputs": [],
   "source": [
    "l = [1,2,3,4,5,6,7,8,9,10,11,12,13,14,15,16,17,18,19,20,21,22,23,24,25]"
   ]
  },
  {
   "cell_type": "code",
   "execution_count": 12,
   "id": "eafad119-270f-4f1e-8db3-1a468a6e21df",
   "metadata": {},
   "outputs": [
    {
     "name": "stdout",
     "output_type": "stream",
     "text": [
      "the element is not divisible by 3\n",
      "the element is not divisible by 3\n",
      "the element is divisible by 3\n",
      "the element is not divisible by 3\n",
      "the element is not divisible by 3\n",
      "the element is divisible by 3\n",
      "the element is not divisible by 3\n",
      "the element is not divisible by 3\n",
      "the element is divisible by 3\n",
      "the element is not divisible by 3\n",
      "the element is not divisible by 3\n",
      "the element is divisible by 3\n",
      "the element is not divisible by 3\n",
      "the element is not divisible by 3\n",
      "the element is divisible by 3\n",
      "the element is not divisible by 3\n",
      "the element is not divisible by 3\n",
      "the element is divisible by 3\n",
      "the element is not divisible by 3\n",
      "the element is not divisible by 3\n",
      "the element is divisible by 3\n",
      "the element is not divisible by 3\n",
      "the element is not divisible by 3\n",
      "the element is divisible by 3\n",
      "the element is not divisible by 3\n"
     ]
    }
   ],
   "source": [
    "for i in l :\n",
    "    if i%3 == 0 :\n",
    "        print(\"the element is divisible by 3\")\n",
    "    else :\n",
    "        print(\"the element is not divisible by 3\")"
   ]
  },
  {
   "cell_type": "code",
   "execution_count": 13,
   "id": "8e1c2581-f10b-4736-83cd-7365d42c61cc",
   "metadata": {},
   "outputs": [],
   "source": [
    "# question 2\n"
   ]
  },
  {
   "cell_type": "code",
   "execution_count": 15,
   "id": "a6db5498-5b50-41e6-a8e5-22cc5d74dc5f",
   "metadata": {},
   "outputs": [],
   "source": [
    "var1 = ' '"
   ]
  },
  {
   "cell_type": "code",
   "execution_count": 16,
   "id": "947c1d83-2b76-4f45-9613-7f717fadbd52",
   "metadata": {},
   "outputs": [
    {
     "data": {
      "text/plain": [
       "str"
      ]
     },
     "execution_count": 16,
     "metadata": {},
     "output_type": "execute_result"
    }
   ],
   "source": [
    "type(var1)"
   ]
  },
  {
   "cell_type": "code",
   "execution_count": null,
   "id": "5aca805f-3c4e-4c16-92e5-2c67b72cf0f7",
   "metadata": {},
   "outputs": [],
   "source": [
    "var2 = ‘[ DS , ML , Python]’"
   ]
  },
  {
   "cell_type": "code",
   "execution_count": null,
   "id": "31370efe-ba24-47c4-bf70-a1bf82828bd7",
   "metadata": {},
   "outputs": [],
   "source": [
    "# question 5"
   ]
  }
 ],
 "metadata": {
  "kernelspec": {
   "display_name": "Python 3 (ipykernel)",
   "language": "python",
   "name": "python3"
  },
  "language_info": {
   "codemirror_mode": {
    "name": "ipython",
    "version": 3
   },
   "file_extension": ".py",
   "mimetype": "text/x-python",
   "name": "python",
   "nbconvert_exporter": "python",
   "pygments_lexer": "ipython3",
   "version": "3.10.8"
  }
 },
 "nbformat": 4,
 "nbformat_minor": 5
}
